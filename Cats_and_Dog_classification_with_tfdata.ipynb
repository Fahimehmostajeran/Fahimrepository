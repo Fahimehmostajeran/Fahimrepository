{
  "nbformat": 4,
  "nbformat_minor": 0,
  "metadata": {
    "kernelspec": {
      "display_name": "tf2-GPU",
      "language": "python",
      "name": "tf2"
    },
    "language_info": {
      "codemirror_mode": {
        "name": "ipython",
        "version": 3
      },
      "file_extension": ".py",
      "mimetype": "text/x-python",
      "name": "python",
      "nbconvert_exporter": "python",
      "pygments_lexer": "ipython3",
      "version": "3.6.9"
    },
    "colab": {
      "name": "Cats and Dog classification with tfdata.ipynb",
      "provenance": [],
      "collapsed_sections": []
    },
    "accelerator": "GPU"
  },
  "cells": [
    {
      "cell_type": "code",
      "metadata": {
        "id": "B7XCEGHYZRMe"
      },
      "source": [
        "import tensorflow as tf\n",
        "import os\n",
        "import numpy as np\n",
        "import matplotlib.pyplot as plt\n",
        "import pathlib\n",
        "import PIL\n",
        "\n",
        "from tensorflow import keras\n",
        "from tensorflow.keras import layers\n",
        "from tensorflow.keras.models import Sequential"
      ],
      "execution_count": null,
      "outputs": []
    },
    {
      "cell_type": "code",
      "metadata": {
        "id": "KpOA7tLdZRMj"
      },
      "source": [
        "def augment_data(image):\n",
        "    image = tf.image.resize_with_crop_or_pad(image, 180, 180) # Add 6 pixels of padding\n",
        "    image = tf.image.random_crop(image, size=[150, 150, 3]) # Random crop back to 28x28\n",
        "    image = tf.image.random_brightness(image, max_delta=0.5) # Random brightness\n",
        "\n",
        "    return image"
      ],
      "execution_count": null,
      "outputs": []
    },
    {
      "cell_type": "code",
      "metadata": {
        "colab": {
          "base_uri": "https://localhost:8080/"
        },
        "id": "9hrq68hUZRMk",
        "outputId": "af9abd89-e91d-4281-afb0-e8c869da1fc3"
      },
      "source": [
        "#directory = \"D:/dataset/flower_photos\"\n",
        "\n",
        "import tensorflow as tf\n",
        "import os\n",
        "\n",
        "_URL = 'https://storage.googleapis.com/mledu-datasets/cats_and_dogs_filtered.zip'\n",
        "\n",
        "path_to_zip = tf.keras.utils.get_file('cats_and_dogs.zip', origin=_URL, extract=True)\n",
        "\n",
        "PATH = os.path.join(os.path.dirname(path_to_zip), 'cats_and_dogs_filtered')\n",
        "\n",
        "train_dir =  \"/root/.keras/datasets/cats_and_dogs_filtered/train\"\n",
        "validation_dir = \"/root/.keras/datasets/cats_and_dogs_filtered/validation\""
      ],
      "execution_count": null,
      "outputs": [
        {
          "output_type": "stream",
          "name": "stdout",
          "text": [
            "Downloading data from https://storage.googleapis.com/mledu-datasets/cats_and_dogs_filtered.zip\n",
            "68608000/68606236 [==============================] - 1s 0us/step\n",
            "68616192/68606236 [==============================] - 1s 0us/step\n"
          ]
        }
      ]
    },
    {
      "cell_type": "code",
      "metadata": {
        "colab": {
          "base_uri": "https://localhost:8080/"
        },
        "id": "cFcZyLLUU-dG",
        "outputId": "ebaa3e29-a8a9-4334-d822-8c362a4c4f62"
      },
      "source": [
        "!ls /root/.keras/datasets/cats_and_dogs_filtered/train/cats"
      ],
      "execution_count": null,
      "outputs": [
        {
          "output_type": "stream",
          "name": "stdout",
          "text": [
            "cat.0.jpg    cat.250.jpg  cat.400.jpg  cat.551.jpg  cat.701.jpg  cat.852.jpg\n",
            "cat.100.jpg  cat.251.jpg  cat.401.jpg  cat.552.jpg  cat.702.jpg  cat.853.jpg\n",
            "cat.101.jpg  cat.252.jpg  cat.402.jpg  cat.553.jpg  cat.703.jpg  cat.854.jpg\n",
            "cat.102.jpg  cat.253.jpg  cat.403.jpg  cat.554.jpg  cat.704.jpg  cat.855.jpg\n",
            "cat.103.jpg  cat.254.jpg  cat.404.jpg  cat.555.jpg  cat.705.jpg  cat.856.jpg\n",
            "cat.104.jpg  cat.255.jpg  cat.405.jpg  cat.556.jpg  cat.706.jpg  cat.857.jpg\n",
            "cat.105.jpg  cat.256.jpg  cat.406.jpg  cat.557.jpg  cat.707.jpg  cat.858.jpg\n",
            "cat.106.jpg  cat.257.jpg  cat.407.jpg  cat.558.jpg  cat.708.jpg  cat.859.jpg\n",
            "cat.107.jpg  cat.258.jpg  cat.408.jpg  cat.559.jpg  cat.709.jpg  cat.85.jpg\n",
            "cat.108.jpg  cat.259.jpg  cat.409.jpg  cat.55.jpg   cat.70.jpg\t cat.860.jpg\n",
            "cat.109.jpg  cat.25.jpg   cat.40.jpg   cat.560.jpg  cat.710.jpg  cat.861.jpg\n",
            "cat.10.jpg   cat.260.jpg  cat.410.jpg  cat.561.jpg  cat.711.jpg  cat.862.jpg\n",
            "cat.110.jpg  cat.261.jpg  cat.411.jpg  cat.562.jpg  cat.712.jpg  cat.863.jpg\n",
            "cat.111.jpg  cat.262.jpg  cat.412.jpg  cat.563.jpg  cat.713.jpg  cat.864.jpg\n",
            "cat.112.jpg  cat.263.jpg  cat.413.jpg  cat.564.jpg  cat.714.jpg  cat.865.jpg\n",
            "cat.113.jpg  cat.264.jpg  cat.414.jpg  cat.565.jpg  cat.715.jpg  cat.866.jpg\n",
            "cat.114.jpg  cat.265.jpg  cat.415.jpg  cat.566.jpg  cat.716.jpg  cat.867.jpg\n",
            "cat.115.jpg  cat.266.jpg  cat.416.jpg  cat.567.jpg  cat.717.jpg  cat.868.jpg\n",
            "cat.116.jpg  cat.267.jpg  cat.417.jpg  cat.568.jpg  cat.718.jpg  cat.869.jpg\n",
            "cat.117.jpg  cat.268.jpg  cat.418.jpg  cat.569.jpg  cat.719.jpg  cat.86.jpg\n",
            "cat.118.jpg  cat.269.jpg  cat.419.jpg  cat.56.jpg   cat.71.jpg\t cat.870.jpg\n",
            "cat.119.jpg  cat.26.jpg   cat.41.jpg   cat.570.jpg  cat.720.jpg  cat.871.jpg\n",
            "cat.11.jpg   cat.270.jpg  cat.420.jpg  cat.571.jpg  cat.721.jpg  cat.872.jpg\n",
            "cat.120.jpg  cat.271.jpg  cat.421.jpg  cat.572.jpg  cat.722.jpg  cat.873.jpg\n",
            "cat.121.jpg  cat.272.jpg  cat.422.jpg  cat.573.jpg  cat.723.jpg  cat.874.jpg\n",
            "cat.122.jpg  cat.273.jpg  cat.423.jpg  cat.574.jpg  cat.724.jpg  cat.875.jpg\n",
            "cat.123.jpg  cat.274.jpg  cat.424.jpg  cat.575.jpg  cat.725.jpg  cat.876.jpg\n",
            "cat.124.jpg  cat.275.jpg  cat.425.jpg  cat.576.jpg  cat.726.jpg  cat.877.jpg\n",
            "cat.125.jpg  cat.276.jpg  cat.426.jpg  cat.577.jpg  cat.727.jpg  cat.878.jpg\n",
            "cat.126.jpg  cat.277.jpg  cat.427.jpg  cat.578.jpg  cat.728.jpg  cat.879.jpg\n",
            "cat.127.jpg  cat.278.jpg  cat.428.jpg  cat.579.jpg  cat.729.jpg  cat.87.jpg\n",
            "cat.128.jpg  cat.279.jpg  cat.429.jpg  cat.57.jpg   cat.72.jpg\t cat.880.jpg\n",
            "cat.129.jpg  cat.27.jpg   cat.42.jpg   cat.580.jpg  cat.730.jpg  cat.881.jpg\n",
            "cat.12.jpg   cat.280.jpg  cat.430.jpg  cat.581.jpg  cat.731.jpg  cat.882.jpg\n",
            "cat.130.jpg  cat.281.jpg  cat.431.jpg  cat.582.jpg  cat.732.jpg  cat.883.jpg\n",
            "cat.131.jpg  cat.282.jpg  cat.432.jpg  cat.583.jpg  cat.733.jpg  cat.884.jpg\n",
            "cat.132.jpg  cat.283.jpg  cat.433.jpg  cat.584.jpg  cat.734.jpg  cat.885.jpg\n",
            "cat.133.jpg  cat.284.jpg  cat.434.jpg  cat.585.jpg  cat.735.jpg  cat.886.jpg\n",
            "cat.134.jpg  cat.285.jpg  cat.435.jpg  cat.586.jpg  cat.736.jpg  cat.887.jpg\n",
            "cat.135.jpg  cat.286.jpg  cat.436.jpg  cat.587.jpg  cat.737.jpg  cat.888.jpg\n",
            "cat.136.jpg  cat.287.jpg  cat.437.jpg  cat.588.jpg  cat.738.jpg  cat.889.jpg\n",
            "cat.137.jpg  cat.288.jpg  cat.438.jpg  cat.589.jpg  cat.739.jpg  cat.88.jpg\n",
            "cat.138.jpg  cat.289.jpg  cat.439.jpg  cat.58.jpg   cat.73.jpg\t cat.890.jpg\n",
            "cat.139.jpg  cat.28.jpg   cat.43.jpg   cat.590.jpg  cat.740.jpg  cat.891.jpg\n",
            "cat.13.jpg   cat.290.jpg  cat.440.jpg  cat.591.jpg  cat.741.jpg  cat.892.jpg\n",
            "cat.140.jpg  cat.291.jpg  cat.441.jpg  cat.592.jpg  cat.742.jpg  cat.893.jpg\n",
            "cat.141.jpg  cat.292.jpg  cat.442.jpg  cat.593.jpg  cat.743.jpg  cat.894.jpg\n",
            "cat.142.jpg  cat.293.jpg  cat.443.jpg  cat.594.jpg  cat.744.jpg  cat.895.jpg\n",
            "cat.143.jpg  cat.294.jpg  cat.444.jpg  cat.595.jpg  cat.745.jpg  cat.896.jpg\n",
            "cat.144.jpg  cat.295.jpg  cat.445.jpg  cat.596.jpg  cat.746.jpg  cat.897.jpg\n",
            "cat.145.jpg  cat.296.jpg  cat.446.jpg  cat.597.jpg  cat.747.jpg  cat.898.jpg\n",
            "cat.146.jpg  cat.297.jpg  cat.447.jpg  cat.598.jpg  cat.748.jpg  cat.899.jpg\n",
            "cat.147.jpg  cat.298.jpg  cat.448.jpg  cat.599.jpg  cat.749.jpg  cat.89.jpg\n",
            "cat.148.jpg  cat.299.jpg  cat.449.jpg  cat.59.jpg   cat.74.jpg\t cat.8.jpg\n",
            "cat.149.jpg  cat.29.jpg   cat.44.jpg   cat.5.jpg    cat.750.jpg  cat.900.jpg\n",
            "cat.14.jpg   cat.2.jpg\t  cat.450.jpg  cat.600.jpg  cat.751.jpg  cat.901.jpg\n",
            "cat.150.jpg  cat.300.jpg  cat.451.jpg  cat.601.jpg  cat.752.jpg  cat.902.jpg\n",
            "cat.151.jpg  cat.301.jpg  cat.452.jpg  cat.602.jpg  cat.753.jpg  cat.903.jpg\n",
            "cat.152.jpg  cat.302.jpg  cat.453.jpg  cat.603.jpg  cat.754.jpg  cat.904.jpg\n",
            "cat.153.jpg  cat.303.jpg  cat.454.jpg  cat.604.jpg  cat.755.jpg  cat.905.jpg\n",
            "cat.154.jpg  cat.304.jpg  cat.455.jpg  cat.605.jpg  cat.756.jpg  cat.906.jpg\n",
            "cat.155.jpg  cat.305.jpg  cat.456.jpg  cat.606.jpg  cat.757.jpg  cat.907.jpg\n",
            "cat.156.jpg  cat.306.jpg  cat.457.jpg  cat.607.jpg  cat.758.jpg  cat.908.jpg\n",
            "cat.157.jpg  cat.307.jpg  cat.458.jpg  cat.608.jpg  cat.759.jpg  cat.909.jpg\n",
            "cat.158.jpg  cat.308.jpg  cat.459.jpg  cat.609.jpg  cat.75.jpg\t cat.90.jpg\n",
            "cat.159.jpg  cat.309.jpg  cat.45.jpg   cat.60.jpg   cat.760.jpg  cat.910.jpg\n",
            "cat.15.jpg   cat.30.jpg   cat.460.jpg  cat.610.jpg  cat.761.jpg  cat.911.jpg\n",
            "cat.160.jpg  cat.310.jpg  cat.461.jpg  cat.611.jpg  cat.762.jpg  cat.912.jpg\n",
            "cat.161.jpg  cat.311.jpg  cat.462.jpg  cat.612.jpg  cat.763.jpg  cat.913.jpg\n",
            "cat.162.jpg  cat.312.jpg  cat.463.jpg  cat.613.jpg  cat.764.jpg  cat.914.jpg\n",
            "cat.163.jpg  cat.313.jpg  cat.464.jpg  cat.614.jpg  cat.765.jpg  cat.915.jpg\n",
            "cat.164.jpg  cat.314.jpg  cat.465.jpg  cat.615.jpg  cat.766.jpg  cat.916.jpg\n",
            "cat.165.jpg  cat.315.jpg  cat.466.jpg  cat.616.jpg  cat.767.jpg  cat.917.jpg\n",
            "cat.166.jpg  cat.316.jpg  cat.467.jpg  cat.617.jpg  cat.768.jpg  cat.918.jpg\n",
            "cat.167.jpg  cat.317.jpg  cat.468.jpg  cat.618.jpg  cat.769.jpg  cat.919.jpg\n",
            "cat.168.jpg  cat.318.jpg  cat.469.jpg  cat.619.jpg  cat.76.jpg\t cat.91.jpg\n",
            "cat.169.jpg  cat.319.jpg  cat.46.jpg   cat.61.jpg   cat.770.jpg  cat.920.jpg\n",
            "cat.16.jpg   cat.31.jpg   cat.470.jpg  cat.620.jpg  cat.771.jpg  cat.921.jpg\n",
            "cat.170.jpg  cat.320.jpg  cat.471.jpg  cat.621.jpg  cat.772.jpg  cat.922.jpg\n",
            "cat.171.jpg  cat.321.jpg  cat.472.jpg  cat.622.jpg  cat.773.jpg  cat.923.jpg\n",
            "cat.172.jpg  cat.322.jpg  cat.473.jpg  cat.623.jpg  cat.774.jpg  cat.924.jpg\n",
            "cat.173.jpg  cat.323.jpg  cat.474.jpg  cat.624.jpg  cat.775.jpg  cat.925.jpg\n",
            "cat.174.jpg  cat.324.jpg  cat.475.jpg  cat.625.jpg  cat.776.jpg  cat.926.jpg\n",
            "cat.175.jpg  cat.325.jpg  cat.476.jpg  cat.626.jpg  cat.777.jpg  cat.927.jpg\n",
            "cat.176.jpg  cat.326.jpg  cat.477.jpg  cat.627.jpg  cat.778.jpg  cat.928.jpg\n",
            "cat.177.jpg  cat.327.jpg  cat.478.jpg  cat.628.jpg  cat.779.jpg  cat.929.jpg\n",
            "cat.178.jpg  cat.328.jpg  cat.479.jpg  cat.629.jpg  cat.77.jpg\t cat.92.jpg\n",
            "cat.179.jpg  cat.329.jpg  cat.47.jpg   cat.62.jpg   cat.780.jpg  cat.930.jpg\n",
            "cat.17.jpg   cat.32.jpg   cat.480.jpg  cat.630.jpg  cat.781.jpg  cat.931.jpg\n",
            "cat.180.jpg  cat.330.jpg  cat.481.jpg  cat.631.jpg  cat.782.jpg  cat.932.jpg\n",
            "cat.181.jpg  cat.331.jpg  cat.482.jpg  cat.632.jpg  cat.783.jpg  cat.933.jpg\n",
            "cat.182.jpg  cat.332.jpg  cat.483.jpg  cat.633.jpg  cat.784.jpg  cat.934.jpg\n",
            "cat.183.jpg  cat.333.jpg  cat.484.jpg  cat.634.jpg  cat.785.jpg  cat.935.jpg\n",
            "cat.184.jpg  cat.334.jpg  cat.485.jpg  cat.635.jpg  cat.786.jpg  cat.936.jpg\n",
            "cat.185.jpg  cat.335.jpg  cat.486.jpg  cat.636.jpg  cat.787.jpg  cat.937.jpg\n",
            "cat.186.jpg  cat.336.jpg  cat.487.jpg  cat.637.jpg  cat.788.jpg  cat.938.jpg\n",
            "cat.187.jpg  cat.337.jpg  cat.488.jpg  cat.638.jpg  cat.789.jpg  cat.939.jpg\n",
            "cat.188.jpg  cat.338.jpg  cat.489.jpg  cat.639.jpg  cat.78.jpg\t cat.93.jpg\n",
            "cat.189.jpg  cat.339.jpg  cat.48.jpg   cat.63.jpg   cat.790.jpg  cat.940.jpg\n",
            "cat.18.jpg   cat.33.jpg   cat.490.jpg  cat.640.jpg  cat.791.jpg  cat.941.jpg\n",
            "cat.190.jpg  cat.340.jpg  cat.491.jpg  cat.641.jpg  cat.792.jpg  cat.942.jpg\n",
            "cat.191.jpg  cat.341.jpg  cat.492.jpg  cat.642.jpg  cat.793.jpg  cat.943.jpg\n",
            "cat.192.jpg  cat.342.jpg  cat.493.jpg  cat.643.jpg  cat.794.jpg  cat.944.jpg\n",
            "cat.193.jpg  cat.343.jpg  cat.494.jpg  cat.644.jpg  cat.795.jpg  cat.945.jpg\n",
            "cat.194.jpg  cat.344.jpg  cat.495.jpg  cat.645.jpg  cat.796.jpg  cat.946.jpg\n",
            "cat.195.jpg  cat.345.jpg  cat.496.jpg  cat.646.jpg  cat.797.jpg  cat.947.jpg\n",
            "cat.196.jpg  cat.346.jpg  cat.497.jpg  cat.647.jpg  cat.798.jpg  cat.948.jpg\n",
            "cat.197.jpg  cat.347.jpg  cat.498.jpg  cat.648.jpg  cat.799.jpg  cat.949.jpg\n",
            "cat.198.jpg  cat.348.jpg  cat.499.jpg  cat.649.jpg  cat.79.jpg\t cat.94.jpg\n",
            "cat.199.jpg  cat.349.jpg  cat.49.jpg   cat.64.jpg   cat.7.jpg\t cat.950.jpg\n",
            "cat.19.jpg   cat.34.jpg   cat.4.jpg    cat.650.jpg  cat.800.jpg  cat.951.jpg\n",
            "cat.1.jpg    cat.350.jpg  cat.500.jpg  cat.651.jpg  cat.801.jpg  cat.952.jpg\n",
            "cat.200.jpg  cat.351.jpg  cat.501.jpg  cat.652.jpg  cat.802.jpg  cat.953.jpg\n",
            "cat.201.jpg  cat.352.jpg  cat.502.jpg  cat.653.jpg  cat.803.jpg  cat.954.jpg\n",
            "cat.202.jpg  cat.353.jpg  cat.503.jpg  cat.654.jpg  cat.804.jpg  cat.955.jpg\n",
            "cat.203.jpg  cat.354.jpg  cat.504.jpg  cat.655.jpg  cat.805.jpg  cat.956.jpg\n",
            "cat.204.jpg  cat.355.jpg  cat.505.jpg  cat.656.jpg  cat.806.jpg  cat.957.jpg\n",
            "cat.205.jpg  cat.356.jpg  cat.506.jpg  cat.657.jpg  cat.807.jpg  cat.958.jpg\n",
            "cat.206.jpg  cat.357.jpg  cat.507.jpg  cat.658.jpg  cat.808.jpg  cat.959.jpg\n",
            "cat.207.jpg  cat.358.jpg  cat.508.jpg  cat.659.jpg  cat.809.jpg  cat.95.jpg\n",
            "cat.208.jpg  cat.359.jpg  cat.509.jpg  cat.65.jpg   cat.80.jpg\t cat.960.jpg\n",
            "cat.209.jpg  cat.35.jpg   cat.50.jpg   cat.660.jpg  cat.810.jpg  cat.961.jpg\n",
            "cat.20.jpg   cat.360.jpg  cat.510.jpg  cat.661.jpg  cat.811.jpg  cat.962.jpg\n",
            "cat.210.jpg  cat.361.jpg  cat.511.jpg  cat.662.jpg  cat.812.jpg  cat.963.jpg\n",
            "cat.211.jpg  cat.362.jpg  cat.512.jpg  cat.663.jpg  cat.813.jpg  cat.964.jpg\n",
            "cat.212.jpg  cat.363.jpg  cat.513.jpg  cat.664.jpg  cat.814.jpg  cat.965.jpg\n",
            "cat.213.jpg  cat.364.jpg  cat.514.jpg  cat.665.jpg  cat.815.jpg  cat.966.jpg\n",
            "cat.214.jpg  cat.365.jpg  cat.515.jpg  cat.666.jpg  cat.816.jpg  cat.967.jpg\n",
            "cat.215.jpg  cat.366.jpg  cat.516.jpg  cat.667.jpg  cat.817.jpg  cat.968.jpg\n",
            "cat.216.jpg  cat.367.jpg  cat.517.jpg  cat.668.jpg  cat.818.jpg  cat.969.jpg\n",
            "cat.217.jpg  cat.368.jpg  cat.518.jpg  cat.669.jpg  cat.819.jpg  cat.96.jpg\n",
            "cat.218.jpg  cat.369.jpg  cat.519.jpg  cat.66.jpg   cat.81.jpg\t cat.970.jpg\n",
            "cat.219.jpg  cat.36.jpg   cat.51.jpg   cat.670.jpg  cat.820.jpg  cat.971.jpg\n",
            "cat.21.jpg   cat.370.jpg  cat.520.jpg  cat.671.jpg  cat.821.jpg  cat.972.jpg\n",
            "cat.220.jpg  cat.371.jpg  cat.521.jpg  cat.672.jpg  cat.822.jpg  cat.973.jpg\n",
            "cat.221.jpg  cat.372.jpg  cat.522.jpg  cat.673.jpg  cat.823.jpg  cat.974.jpg\n",
            "cat.222.jpg  cat.373.jpg  cat.523.jpg  cat.674.jpg  cat.824.jpg  cat.975.jpg\n",
            "cat.223.jpg  cat.374.jpg  cat.524.jpg  cat.675.jpg  cat.825.jpg  cat.976.jpg\n",
            "cat.224.jpg  cat.375.jpg  cat.525.jpg  cat.676.jpg  cat.826.jpg  cat.977.jpg\n",
            "cat.225.jpg  cat.376.jpg  cat.526.jpg  cat.677.jpg  cat.827.jpg  cat.978.jpg\n",
            "cat.226.jpg  cat.377.jpg  cat.527.jpg  cat.678.jpg  cat.828.jpg  cat.979.jpg\n",
            "cat.227.jpg  cat.378.jpg  cat.528.jpg  cat.679.jpg  cat.829.jpg  cat.97.jpg\n",
            "cat.228.jpg  cat.379.jpg  cat.529.jpg  cat.67.jpg   cat.82.jpg\t cat.980.jpg\n",
            "cat.229.jpg  cat.37.jpg   cat.52.jpg   cat.680.jpg  cat.830.jpg  cat.981.jpg\n",
            "cat.22.jpg   cat.380.jpg  cat.530.jpg  cat.681.jpg  cat.831.jpg  cat.982.jpg\n",
            "cat.230.jpg  cat.381.jpg  cat.531.jpg  cat.682.jpg  cat.832.jpg  cat.983.jpg\n",
            "cat.231.jpg  cat.382.jpg  cat.532.jpg  cat.683.jpg  cat.833.jpg  cat.984.jpg\n",
            "cat.232.jpg  cat.383.jpg  cat.533.jpg  cat.684.jpg  cat.834.jpg  cat.985.jpg\n",
            "cat.233.jpg  cat.384.jpg  cat.534.jpg  cat.685.jpg  cat.835.jpg  cat.986.jpg\n",
            "cat.234.jpg  cat.385.jpg  cat.535.jpg  cat.686.jpg  cat.836.jpg  cat.987.jpg\n",
            "cat.235.jpg  cat.386.jpg  cat.536.jpg  cat.687.jpg  cat.837.jpg  cat.988.jpg\n",
            "cat.236.jpg  cat.387.jpg  cat.537.jpg  cat.688.jpg  cat.838.jpg  cat.989.jpg\n",
            "cat.237.jpg  cat.388.jpg  cat.538.jpg  cat.689.jpg  cat.839.jpg  cat.98.jpg\n",
            "cat.238.jpg  cat.389.jpg  cat.539.jpg  cat.68.jpg   cat.83.jpg\t cat.990.jpg\n",
            "cat.239.jpg  cat.38.jpg   cat.53.jpg   cat.690.jpg  cat.840.jpg  cat.991.jpg\n",
            "cat.23.jpg   cat.390.jpg  cat.540.jpg  cat.691.jpg  cat.841.jpg  cat.992.jpg\n",
            "cat.240.jpg  cat.391.jpg  cat.541.jpg  cat.692.jpg  cat.842.jpg  cat.993.jpg\n",
            "cat.241.jpg  cat.392.jpg  cat.542.jpg  cat.693.jpg  cat.843.jpg  cat.994.jpg\n",
            "cat.242.jpg  cat.393.jpg  cat.543.jpg  cat.694.jpg  cat.844.jpg  cat.995.jpg\n",
            "cat.243.jpg  cat.394.jpg  cat.544.jpg  cat.695.jpg  cat.845.jpg  cat.996.jpg\n",
            "cat.244.jpg  cat.395.jpg  cat.545.jpg  cat.696.jpg  cat.846.jpg  cat.997.jpg\n",
            "cat.245.jpg  cat.396.jpg  cat.546.jpg  cat.697.jpg  cat.847.jpg  cat.998.jpg\n",
            "cat.246.jpg  cat.397.jpg  cat.547.jpg  cat.698.jpg  cat.848.jpg  cat.999.jpg\n",
            "cat.247.jpg  cat.398.jpg  cat.548.jpg  cat.699.jpg  cat.849.jpg  cat.99.jpg\n",
            "cat.248.jpg  cat.399.jpg  cat.549.jpg  cat.69.jpg   cat.84.jpg\t cat.9.jpg\n",
            "cat.249.jpg  cat.39.jpg   cat.54.jpg   cat.6.jpg    cat.850.jpg\n",
            "cat.24.jpg   cat.3.jpg\t  cat.550.jpg  cat.700.jpg  cat.851.jpg\n"
          ]
        }
      ]
    },
    {
      "cell_type": "code",
      "metadata": {
        "id": "XajjiI3oZRMl"
      },
      "source": [
        "train_dir = pathlib.Path(train_dir)\n",
        "validation_dir = pathlib.Path(validation_dir)"
      ],
      "execution_count": null,
      "outputs": []
    },
    {
      "cell_type": "code",
      "metadata": {
        "id": "vzLx0VJvZRMl"
      },
      "source": [
        "CLASS_NAMES = np.array([item.name for item in train_dir.glob('*')])"
      ],
      "execution_count": null,
      "outputs": []
    },
    {
      "cell_type": "code",
      "metadata": {
        "colab": {
          "base_uri": "https://localhost:8080/"
        },
        "id": "3QmnkT8vZRMm",
        "outputId": "c250ee6b-d509-446d-c942-abe7fddfab3e"
      },
      "source": [
        "CLASS_NAMES"
      ],
      "execution_count": null,
      "outputs": [
        {
          "output_type": "execute_result",
          "data": {
            "text/plain": [
              "array(['cats', 'dogs'], dtype='<U4')"
            ]
          },
          "metadata": {},
          "execution_count": 7
        }
      ]
    },
    {
      "cell_type": "code",
      "metadata": {
        "id": "3zcyDEP_QSCj"
      },
      "source": [
        "CLASS_NAMES = np.array([item.name for item in validation_dir.glob('*')])"
      ],
      "execution_count": null,
      "outputs": []
    },
    {
      "cell_type": "code",
      "metadata": {
        "colab": {
          "base_uri": "https://localhost:8080/"
        },
        "id": "7XyUhCzkQajt",
        "outputId": "70c76adf-f2e3-4887-c60a-ac1a62fd4046"
      },
      "source": [
        "CLASS_NAMES"
      ],
      "execution_count": null,
      "outputs": [
        {
          "output_type": "execute_result",
          "data": {
            "text/plain": [
              "array(['cats', 'dogs'], dtype='<U4')"
            ]
          },
          "metadata": {},
          "execution_count": 9
        }
      ]
    },
    {
      "cell_type": "code",
      "metadata": {
        "id": "XkS5VZLQZRMn"
      },
      "source": [
        "train_dataset = tf.data.Dataset.list_files(str(train_dir/'*/*'))\n",
        "validation_dataset = tf.data.Dataset.list_files(str(validation_dir/'*/*'))"
      ],
      "execution_count": null,
      "outputs": []
    },
    {
      "cell_type": "code",
      "metadata": {
        "id": "xWnH9i_gZRMo"
      },
      "source": [
        "#validation_split = 0.2"
      ],
      "execution_count": null,
      "outputs": []
    },
    {
      "cell_type": "code",
      "metadata": {
        "colab": {
          "base_uri": "https://localhost:8080/"
        },
        "id": "yJwphhYZZRMp",
        "outputId": "0135b18d-5559-41bb-9f82-a51ba82ed13a"
      },
      "source": [
        "TRAIN_SIZE = len(list(train_dataset))\n",
        "print(\"Train size: \", TRAIN_SIZE)\n",
        "val_SIZE = len(list(validation_dataset))\n",
        "print(\"Train size: \", val_SIZE)\n",
        "#train_size = int((1-validation_split) * DATASET_SIZE)\n",
        "#print(\"train size: \", train_size)"
      ],
      "execution_count": null,
      "outputs": [
        {
          "output_type": "stream",
          "name": "stdout",
          "text": [
            "Train size:  2000\n",
            "Train size:  1000\n"
          ]
        }
      ]
    },
    {
      "cell_type": "code",
      "metadata": {
        "id": "2wbV-kNaZRMq"
      },
      "source": [
        "@tf.function\n",
        "def get_label(file_path):\n",
        "  # convert the path to a list of path components\n",
        "  parts = tf.strings.split(file_path, os.path.sep)\n",
        "  # The second to last is the class-directory\n",
        "  return parts[-2] == CLASS_NAMES"
      ],
      "execution_count": null,
      "outputs": []
    },
    {
      "cell_type": "code",
      "metadata": {
        "colab": {
          "base_uri": "https://localhost:8080/"
        },
        "id": "xGieaR6PZRMr",
        "outputId": "8f9970e8-15df-442a-858a-693f917f5e69"
      },
      "source": [
        "get_label(\"/root/.keras/datasets/cats_and_dogs_filtered/train/cats/cat.953.jpg\").numpy()"
      ],
      "execution_count": null,
      "outputs": [
        {
          "output_type": "execute_result",
          "data": {
            "text/plain": [
              "array([ True, False])"
            ]
          },
          "metadata": {},
          "execution_count": 14
        }
      ]
    },
    {
      "cell_type": "code",
      "metadata": {
        "id": "UtD6NyVXZRMs"
      },
      "source": [
        "@tf.function\n",
        "def load_img(image_path):\n",
        "    img = tf.io.read_file(image_path)\n",
        "    \n",
        "    # https://stackoverflow.com/questions/44942729/tensorflowvalueerror-images-contains-no-shape\n",
        "    img = tf.image.decode_image(img, 3, expand_animations=False)\n",
        "    \n",
        "    img = tf.cast(img, tf.float32)\n",
        "    return img"
      ],
      "execution_count": null,
      "outputs": []
    },
    {
      "cell_type": "code",
      "metadata": {
        "id": "5PtWNyjmZRMs"
      },
      "source": [
        "# normalizing the images to [-1, 1]\n",
        "@tf.function\n",
        "def normalize(image):\n",
        "    image = (image / 127.5) - 1\n",
        "    return image"
      ],
      "execution_count": null,
      "outputs": []
    },
    {
      "cell_type": "code",
      "metadata": {
        "id": "cFSgcv-FZRMt"
      },
      "source": [
        "@tf.function\n",
        "def resize(image,height, width):\n",
        "    image = tf.image.resize(image, (height, width),\n",
        "                                 method=tf.image.ResizeMethod.NEAREST_NEIGHBOR)\n",
        "    #image = tf.image.resize_with_crop_or_pad(image, height, width)\n",
        "    return image"
      ],
      "execution_count": null,
      "outputs": []
    },
    {
      "cell_type": "code",
      "metadata": {
        "id": "8lx1auqaZRMt"
      },
      "source": [
        "@tf.function\n",
        "def load_image_with_label(image_path):\n",
        "    label = get_label(image_path)\n",
        "    img = load_img(image_path)\n",
        "    return img, label"
      ],
      "execution_count": null,
      "outputs": []
    },
    {
      "cell_type": "code",
      "metadata": {
        "id": "GHp7XeTxZRMu"
      },
      "source": [
        "@tf.function\n",
        "def load_image_train(image_file):\n",
        "    image, label = load_image_with_label(image_file)\n",
        "    image = augment_data(image)\n",
        "    image = normalize(image)\n",
        "    \n",
        "    return image, label"
      ],
      "execution_count": null,
      "outputs": []
    },
    {
      "cell_type": "code",
      "metadata": {
        "id": "_iNlnQCeZRMu"
      },
      "source": [
        "@tf.function\n",
        "def load_image_test(image_file):\n",
        "    image, label = load_image_with_label(image_file)\n",
        "    image = resize(image, 150, 150)\n",
        "    image = normalize(image)\n",
        "\n",
        "    return image, label"
      ],
      "execution_count": null,
      "outputs": []
    },
    {
      "cell_type": "code",
      "metadata": {
        "id": "Ph1teBdmZRMv"
      },
      "source": [
        "BATCH_SIZE = 32\n",
        "SHUFFLE_BUFFER_SIZE = 1000"
      ],
      "execution_count": null,
      "outputs": []
    },
    {
      "cell_type": "code",
      "metadata": {
        "id": "D7W2-VnFZRMv"
      },
      "source": [
        "AUTOTUNE=tf.data.experimental.AUTOTUNE\n",
        "train_dataset = train_dataset.map(load_image_train,num_parallel_calls=AUTOTUNE)\n",
        "train_dataset = train_dataset.shuffle(SHUFFLE_BUFFER_SIZE)\n",
        "train_dataset = train_dataset.batch(BATCH_SIZE)\n",
        "train_dataset = train_dataset.prefetch(buffer_size=AUTOTUNE)"
      ],
      "execution_count": null,
      "outputs": []
    },
    {
      "cell_type": "code",
      "metadata": {
        "id": "wD9du_X0ZRMw"
      },
      "source": [
        "AUTOTUNE=tf.data.experimental.AUTOTUNE\n",
        "validation_dataset = validation_dataset.map(load_image_test,num_parallel_calls=AUTOTUNE)\n",
        "validation_dataset = validation_dataset.batch(BATCH_SIZE)\n",
        "validation_dataset = validation_dataset.cache()\n",
        "validation_dataset = validation_dataset.prefetch(buffer_size=AUTOTUNE)"
      ],
      "execution_count": null,
      "outputs": []
    },
    {
      "cell_type": "code",
      "metadata": {
        "colab": {
          "base_uri": "https://localhost:8080/"
        },
        "id": "y4JRx_ViZRMw",
        "outputId": "5877d069-6cac-41f8-df9c-296dfc85c9ee"
      },
      "source": [
        "base_model = tf.keras.applications.VGG16(weights='imagenet',\n",
        "                  include_top=False,\n",
        "                  input_shape=(150, 150, 3))"
      ],
      "execution_count": null,
      "outputs": [
        {
          "output_type": "stream",
          "name": "stdout",
          "text": [
            "Downloading data from https://storage.googleapis.com/tensorflow/keras-applications/vgg16/vgg16_weights_tf_dim_ordering_tf_kernels_notop.h5\n",
            "58892288/58889256 [==============================] - 1s 0us/step\n",
            "58900480/58889256 [==============================] - 1s 0us/step\n"
          ]
        }
      ]
    },
    {
      "cell_type": "code",
      "metadata": {
        "id": "2c7YMWQfZRMx"
      },
      "source": [
        "base_model.trainable = False"
      ],
      "execution_count": null,
      "outputs": []
    },
    {
      "cell_type": "code",
      "metadata": {
        "id": "uAP9n2tuZRMx"
      },
      "source": [
        "n_class =len(CLASS_NAMES)"
      ],
      "execution_count": null,
      "outputs": []
    },
    {
      "cell_type": "code",
      "metadata": {
        "id": "a90KnOvrZRMx"
      },
      "source": [
        "flatten_layer = tf.keras.layers.GlobalAveragePooling2D()\n",
        "dense_layer = tf.keras.layers.Dense(100, activation='relu')\n",
        "dropout_layer = tf.keras.layers.Dropout(0.5)\n",
        "prediction_layer = tf.keras.layers.Dense(n_class, activation='softmax')\n",
        "\n",
        "\n"
      ],
      "execution_count": null,
      "outputs": []
    },
    {
      "cell_type": "code",
      "metadata": {
        "id": "NxnvAVorZRMy"
      },
      "source": [
        "model = tf.keras.Sequential([\n",
        "  base_model,\n",
        "  flatten_layer,\n",
        "  dense_layer,\n",
        "  dropout_layer,\n",
        "  prediction_layer\n",
        "])"
      ],
      "execution_count": null,
      "outputs": []
    },
    {
      "cell_type": "code",
      "metadata": {
        "colab": {
          "base_uri": "https://localhost:8080/"
        },
        "id": "xdNy5bZxZRMy",
        "outputId": "435d9ea6-d19f-4b3d-cd40-4b8c05f2e684"
      },
      "source": [
        "model.compile(optimizer=tf.keras.optimizers.RMSprop(lr=0.01),\n",
        "              loss=tf.keras.losses.categorical_crossentropy,\n",
        "              metrics=['accuracy'])"
      ],
      "execution_count": null,
      "outputs": [
        {
          "output_type": "stream",
          "name": "stderr",
          "text": [
            "/usr/local/lib/python3.7/dist-packages/keras/optimizer_v2/rmsprop.py:130: UserWarning: The `lr` argument is deprecated, use `learning_rate` instead.\n",
            "  super(RMSprop, self).__init__(name, **kwargs)\n"
          ]
        }
      ]
    },
    {
      "cell_type": "code",
      "metadata": {
        "colab": {
          "base_uri": "https://localhost:8080/"
        },
        "id": "Mi2l-VutZRMy",
        "outputId": "c2cd1e36-7eca-4861-a451-0fa595ae8d6d"
      },
      "source": [
        "history = model.fit(train_dataset,\n",
        "                    epochs=100,\n",
        "                    validation_data=validation_dataset)"
      ],
      "execution_count": null,
      "outputs": [
        {
          "output_type": "stream",
          "name": "stdout",
          "text": [
            "Epoch 1/100\n",
            "63/63 [==============================] - 54s 271ms/step - loss: 0.7513 - accuracy: 0.7085 - val_loss: 0.5393 - val_accuracy: 0.7150\n",
            "Epoch 2/100\n",
            "63/63 [==============================] - 16s 199ms/step - loss: 0.3779 - accuracy: 0.8280 - val_loss: 0.3371 - val_accuracy: 0.8460\n",
            "Epoch 3/100\n",
            "63/63 [==============================] - 16s 199ms/step - loss: 0.3213 - accuracy: 0.8535 - val_loss: 0.3666 - val_accuracy: 0.8370\n",
            "Epoch 4/100\n",
            "63/63 [==============================] - 16s 200ms/step - loss: 0.3359 - accuracy: 0.8605 - val_loss: 0.3284 - val_accuracy: 0.8780\n",
            "Epoch 5/100\n",
            "63/63 [==============================] - 15s 199ms/step - loss: 0.2860 - accuracy: 0.8710 - val_loss: 0.4373 - val_accuracy: 0.8140\n",
            "Epoch 6/100\n",
            "63/63 [==============================] - 16s 200ms/step - loss: 0.2909 - accuracy: 0.8675 - val_loss: 0.2339 - val_accuracy: 0.9200\n",
            "Epoch 7/100\n",
            "63/63 [==============================] - 15s 199ms/step - loss: 0.2645 - accuracy: 0.8740 - val_loss: 0.6317 - val_accuracy: 0.8110\n",
            "Epoch 8/100\n",
            "63/63 [==============================] - 16s 200ms/step - loss: 0.2717 - accuracy: 0.8790 - val_loss: 0.2388 - val_accuracy: 0.9200\n",
            "Epoch 9/100\n",
            "63/63 [==============================] - 16s 199ms/step - loss: 0.2628 - accuracy: 0.8800 - val_loss: 0.2978 - val_accuracy: 0.8920\n",
            "Epoch 10/100\n",
            "63/63 [==============================] - 16s 199ms/step - loss: 0.2455 - accuracy: 0.8815 - val_loss: 0.6923 - val_accuracy: 0.7750\n",
            "Epoch 11/100\n",
            "63/63 [==============================] - 16s 200ms/step - loss: 0.2629 - accuracy: 0.8850 - val_loss: 0.2470 - val_accuracy: 0.9210\n",
            "Epoch 12/100\n",
            "63/63 [==============================] - 16s 199ms/step - loss: 0.2443 - accuracy: 0.8920 - val_loss: 0.3164 - val_accuracy: 0.9150\n",
            "Epoch 13/100\n",
            "63/63 [==============================] - 16s 199ms/step - loss: 0.2398 - accuracy: 0.8910 - val_loss: 0.2901 - val_accuracy: 0.9250\n",
            "Epoch 14/100\n",
            "63/63 [==============================] - 16s 201ms/step - loss: 0.2287 - accuracy: 0.9025 - val_loss: 0.2532 - val_accuracy: 0.9160\n",
            "Epoch 15/100\n",
            "63/63 [==============================] - 16s 200ms/step - loss: 0.2381 - accuracy: 0.8975 - val_loss: 0.2595 - val_accuracy: 0.9140\n",
            "Epoch 16/100\n",
            "63/63 [==============================] - 16s 199ms/step - loss: 0.2368 - accuracy: 0.8930 - val_loss: 0.2991 - val_accuracy: 0.9070\n",
            "Epoch 17/100\n",
            "63/63 [==============================] - 16s 201ms/step - loss: 0.2144 - accuracy: 0.9055 - val_loss: 0.4260 - val_accuracy: 0.8690\n",
            "Epoch 18/100\n",
            "63/63 [==============================] - 16s 201ms/step - loss: 0.2310 - accuracy: 0.9005 - val_loss: 0.3318 - val_accuracy: 0.9090\n",
            "Epoch 19/100\n",
            "63/63 [==============================] - 16s 202ms/step - loss: 0.2219 - accuracy: 0.9085 - val_loss: 0.5767 - val_accuracy: 0.8560\n",
            "Epoch 20/100\n",
            "63/63 [==============================] - 16s 202ms/step - loss: 0.2185 - accuracy: 0.9030 - val_loss: 0.4374 - val_accuracy: 0.8890\n",
            "Epoch 21/100\n",
            "63/63 [==============================] - 16s 200ms/step - loss: 0.2342 - accuracy: 0.8995 - val_loss: 0.5210 - val_accuracy: 0.8970\n",
            "Epoch 22/100\n",
            "63/63 [==============================] - 16s 201ms/step - loss: 0.2321 - accuracy: 0.8995 - val_loss: 0.3388 - val_accuracy: 0.8970\n",
            "Epoch 23/100\n",
            "63/63 [==============================] - 16s 201ms/step - loss: 0.2125 - accuracy: 0.9075 - val_loss: 0.3818 - val_accuracy: 0.9050\n",
            "Epoch 24/100\n",
            "63/63 [==============================] - 16s 199ms/step - loss: 0.1973 - accuracy: 0.9105 - val_loss: 0.5693 - val_accuracy: 0.8790\n",
            "Epoch 25/100\n",
            "63/63 [==============================] - 16s 201ms/step - loss: 0.2195 - accuracy: 0.9040 - val_loss: 0.3288 - val_accuracy: 0.9210\n",
            "Epoch 26/100\n",
            "63/63 [==============================] - 16s 201ms/step - loss: 0.2053 - accuracy: 0.9135 - val_loss: 0.3486 - val_accuracy: 0.8940\n",
            "Epoch 27/100\n",
            "63/63 [==============================] - 16s 199ms/step - loss: 0.1931 - accuracy: 0.9150 - val_loss: 0.3283 - val_accuracy: 0.9200\n",
            "Epoch 28/100\n",
            "63/63 [==============================] - 16s 200ms/step - loss: 0.1949 - accuracy: 0.9145 - val_loss: 0.3805 - val_accuracy: 0.9140\n",
            "Epoch 29/100\n",
            "63/63 [==============================] - 16s 201ms/step - loss: 0.2029 - accuracy: 0.9190 - val_loss: 0.4792 - val_accuracy: 0.9070\n",
            "Epoch 30/100\n",
            "63/63 [==============================] - 16s 199ms/step - loss: 0.1986 - accuracy: 0.9100 - val_loss: 0.4304 - val_accuracy: 0.8990\n",
            "Epoch 31/100\n",
            "63/63 [==============================] - 15s 199ms/step - loss: 0.2061 - accuracy: 0.9115 - val_loss: 0.3641 - val_accuracy: 0.9160\n",
            "Epoch 32/100\n",
            "63/63 [==============================] - 16s 200ms/step - loss: 0.2003 - accuracy: 0.9215 - val_loss: 0.3686 - val_accuracy: 0.9040\n",
            "Epoch 33/100\n",
            "63/63 [==============================] - 16s 200ms/step - loss: 0.1853 - accuracy: 0.9325 - val_loss: 0.9710 - val_accuracy: 0.8310\n",
            "Epoch 34/100\n",
            "63/63 [==============================] - 16s 201ms/step - loss: 0.2035 - accuracy: 0.9095 - val_loss: 0.3309 - val_accuracy: 0.9140\n",
            "Epoch 35/100\n",
            "63/63 [==============================] - 16s 201ms/step - loss: 0.2018 - accuracy: 0.9190 - val_loss: 0.4806 - val_accuracy: 0.9000\n",
            "Epoch 36/100\n",
            "63/63 [==============================] - 16s 198ms/step - loss: 0.1839 - accuracy: 0.9185 - val_loss: 0.4925 - val_accuracy: 0.9150\n",
            "Epoch 37/100\n",
            "63/63 [==============================] - 16s 199ms/step - loss: 0.1979 - accuracy: 0.9210 - val_loss: 0.3844 - val_accuracy: 0.9130\n",
            "Epoch 38/100\n",
            "63/63 [==============================] - 16s 200ms/step - loss: 0.2005 - accuracy: 0.9150 - val_loss: 0.4749 - val_accuracy: 0.8970\n",
            "Epoch 39/100\n",
            "63/63 [==============================] - 16s 200ms/step - loss: 0.1682 - accuracy: 0.9285 - val_loss: 0.5647 - val_accuracy: 0.8880\n",
            "Epoch 40/100\n",
            "63/63 [==============================] - 16s 200ms/step - loss: 0.2052 - accuracy: 0.9170 - val_loss: 0.4618 - val_accuracy: 0.9180\n",
            "Epoch 41/100\n",
            "63/63 [==============================] - 16s 201ms/step - loss: 0.1702 - accuracy: 0.9300 - val_loss: 0.4868 - val_accuracy: 0.9050\n",
            "Epoch 42/100\n",
            "63/63 [==============================] - 16s 200ms/step - loss: 0.1927 - accuracy: 0.9180 - val_loss: 0.4036 - val_accuracy: 0.9170\n",
            "Epoch 43/100\n",
            "63/63 [==============================] - 16s 201ms/step - loss: 0.1883 - accuracy: 0.9150 - val_loss: 0.4632 - val_accuracy: 0.9070\n",
            "Epoch 44/100\n",
            "63/63 [==============================] - 16s 201ms/step - loss: 0.1814 - accuracy: 0.9225 - val_loss: 0.4497 - val_accuracy: 0.9110\n",
            "Epoch 45/100\n",
            "63/63 [==============================] - 16s 200ms/step - loss: 0.1714 - accuracy: 0.9280 - val_loss: 0.4798 - val_accuracy: 0.9160\n",
            "Epoch 46/100\n",
            "63/63 [==============================] - 16s 201ms/step - loss: 0.1722 - accuracy: 0.9275 - val_loss: 0.6393 - val_accuracy: 0.8970\n",
            "Epoch 47/100\n",
            "63/63 [==============================] - 16s 201ms/step - loss: 0.1733 - accuracy: 0.9250 - val_loss: 0.4177 - val_accuracy: 0.9020\n",
            "Epoch 48/100\n",
            "63/63 [==============================] - 16s 200ms/step - loss: 0.1835 - accuracy: 0.9220 - val_loss: 0.4694 - val_accuracy: 0.8930\n",
            "Epoch 49/100\n",
            "63/63 [==============================] - 16s 201ms/step - loss: 0.1691 - accuracy: 0.9295 - val_loss: 0.4442 - val_accuracy: 0.9060\n",
            "Epoch 50/100\n",
            "63/63 [==============================] - 16s 201ms/step - loss: 0.1604 - accuracy: 0.9330 - val_loss: 0.5901 - val_accuracy: 0.9120\n",
            "Epoch 51/100\n",
            "63/63 [==============================] - 16s 200ms/step - loss: 0.1576 - accuracy: 0.9315 - val_loss: 1.0010 - val_accuracy: 0.8630\n",
            "Epoch 52/100\n",
            "63/63 [==============================] - 16s 200ms/step - loss: 0.1688 - accuracy: 0.9320 - val_loss: 0.6436 - val_accuracy: 0.8990\n",
            "Epoch 53/100\n",
            "63/63 [==============================] - 16s 202ms/step - loss: 0.1646 - accuracy: 0.9280 - val_loss: 0.5185 - val_accuracy: 0.9070\n",
            "Epoch 54/100\n",
            "63/63 [==============================] - 16s 200ms/step - loss: 0.1588 - accuracy: 0.9335 - val_loss: 0.6713 - val_accuracy: 0.9030\n",
            "Epoch 55/100\n",
            "63/63 [==============================] - 16s 199ms/step - loss: 0.1539 - accuracy: 0.9370 - val_loss: 0.6329 - val_accuracy: 0.9160\n",
            "Epoch 56/100\n",
            "63/63 [==============================] - 16s 201ms/step - loss: 0.1708 - accuracy: 0.9325 - val_loss: 0.7285 - val_accuracy: 0.9070\n",
            "Epoch 57/100\n",
            "63/63 [==============================] - 16s 199ms/step - loss: 0.1861 - accuracy: 0.9295 - val_loss: 0.4728 - val_accuracy: 0.9100\n",
            "Epoch 58/100\n",
            "63/63 [==============================] - 16s 200ms/step - loss: 0.1680 - accuracy: 0.9340 - val_loss: 0.7385 - val_accuracy: 0.9020\n",
            "Epoch 59/100\n",
            "63/63 [==============================] - 16s 201ms/step - loss: 0.1836 - accuracy: 0.9340 - val_loss: 0.9884 - val_accuracy: 0.8710\n",
            "Epoch 60/100\n",
            "63/63 [==============================] - 15s 200ms/step - loss: 0.1799 - accuracy: 0.9285 - val_loss: 0.6576 - val_accuracy: 0.9130\n",
            "Epoch 61/100\n",
            "63/63 [==============================] - 16s 200ms/step - loss: 0.1626 - accuracy: 0.9335 - val_loss: 0.6833 - val_accuracy: 0.9070\n",
            "Epoch 62/100\n",
            "63/63 [==============================] - 16s 199ms/step - loss: 0.1606 - accuracy: 0.9350 - val_loss: 1.0985 - val_accuracy: 0.8510\n",
            "Epoch 63/100\n",
            "63/63 [==============================] - 15s 199ms/step - loss: 0.1687 - accuracy: 0.9335 - val_loss: 0.7674 - val_accuracy: 0.9000\n",
            "Epoch 64/100\n",
            "63/63 [==============================] - 16s 199ms/step - loss: 0.1590 - accuracy: 0.9355 - val_loss: 0.7330 - val_accuracy: 0.8940\n",
            "Epoch 65/100\n",
            "63/63 [==============================] - 16s 200ms/step - loss: 0.1664 - accuracy: 0.9395 - val_loss: 0.6978 - val_accuracy: 0.8940\n",
            "Epoch 66/100\n",
            "63/63 [==============================] - 16s 200ms/step - loss: 0.1592 - accuracy: 0.9345 - val_loss: 0.6765 - val_accuracy: 0.9120\n",
            "Epoch 67/100\n",
            "63/63 [==============================] - 16s 200ms/step - loss: 0.1605 - accuracy: 0.9340 - val_loss: 0.5957 - val_accuracy: 0.9130\n",
            "Epoch 68/100\n",
            "63/63 [==============================] - 16s 199ms/step - loss: 0.1561 - accuracy: 0.9370 - val_loss: 0.8176 - val_accuracy: 0.8870\n",
            "Epoch 69/100\n",
            "63/63 [==============================] - 16s 199ms/step - loss: 0.1635 - accuracy: 0.9345 - val_loss: 0.6527 - val_accuracy: 0.9070\n",
            "Epoch 70/100\n",
            "63/63 [==============================] - 16s 201ms/step - loss: 0.1697 - accuracy: 0.9360 - val_loss: 0.6823 - val_accuracy: 0.9110\n",
            "Epoch 71/100\n",
            "63/63 [==============================] - 16s 199ms/step - loss: 0.1626 - accuracy: 0.9365 - val_loss: 0.6406 - val_accuracy: 0.9130\n",
            "Epoch 72/100\n",
            "63/63 [==============================] - 16s 200ms/step - loss: 0.1431 - accuracy: 0.9415 - val_loss: 0.9669 - val_accuracy: 0.8750\n",
            "Epoch 73/100\n",
            "63/63 [==============================] - 16s 200ms/step - loss: 0.1345 - accuracy: 0.9490 - val_loss: 0.7112 - val_accuracy: 0.9090\n",
            "Epoch 74/100\n",
            "63/63 [==============================] - 16s 200ms/step - loss: 0.1606 - accuracy: 0.9405 - val_loss: 0.7034 - val_accuracy: 0.9070\n",
            "Epoch 75/100\n",
            "63/63 [==============================] - 16s 200ms/step - loss: 0.1454 - accuracy: 0.9355 - val_loss: 1.3548 - val_accuracy: 0.8560\n",
            "Epoch 76/100\n",
            "63/63 [==============================] - 16s 201ms/step - loss: 0.1654 - accuracy: 0.9285 - val_loss: 0.9101 - val_accuracy: 0.8940\n",
            "Epoch 77/100\n",
            "63/63 [==============================] - 16s 201ms/step - loss: 0.1447 - accuracy: 0.9405 - val_loss: 0.9423 - val_accuracy: 0.8830\n",
            "Epoch 78/100\n",
            "63/63 [==============================] - 16s 200ms/step - loss: 0.1701 - accuracy: 0.9405 - val_loss: 0.6743 - val_accuracy: 0.9000\n",
            "Epoch 79/100\n",
            "63/63 [==============================] - 16s 203ms/step - loss: 0.1519 - accuracy: 0.9420 - val_loss: 0.7546 - val_accuracy: 0.9030\n",
            "Epoch 80/100\n",
            "63/63 [==============================] - 16s 200ms/step - loss: 0.1515 - accuracy: 0.9385 - val_loss: 0.8027 - val_accuracy: 0.8950\n",
            "Epoch 81/100\n",
            "63/63 [==============================] - 16s 201ms/step - loss: 0.1403 - accuracy: 0.9455 - val_loss: 0.7904 - val_accuracy: 0.9160\n",
            "Epoch 82/100\n",
            "63/63 [==============================] - 16s 201ms/step - loss: 0.1414 - accuracy: 0.9460 - val_loss: 0.8465 - val_accuracy: 0.9060\n",
            "Epoch 83/100\n",
            "63/63 [==============================] - 16s 200ms/step - loss: 0.1420 - accuracy: 0.9495 - val_loss: 0.8375 - val_accuracy: 0.8970\n",
            "Epoch 84/100\n",
            "63/63 [==============================] - 16s 202ms/step - loss: 0.1382 - accuracy: 0.9415 - val_loss: 1.0301 - val_accuracy: 0.8900\n",
            "Epoch 85/100\n",
            "63/63 [==============================] - 16s 202ms/step - loss: 0.1421 - accuracy: 0.9395 - val_loss: 1.0768 - val_accuracy: 0.8800\n",
            "Epoch 86/100\n",
            "63/63 [==============================] - 16s 202ms/step - loss: 0.1372 - accuracy: 0.9485 - val_loss: 0.7147 - val_accuracy: 0.9210\n",
            "Epoch 87/100\n",
            "63/63 [==============================] - 16s 202ms/step - loss: 0.1410 - accuracy: 0.9480 - val_loss: 0.9043 - val_accuracy: 0.9040\n",
            "Epoch 88/100\n",
            "63/63 [==============================] - 16s 204ms/step - loss: 0.1501 - accuracy: 0.9490 - val_loss: 0.9183 - val_accuracy: 0.9070\n",
            "Epoch 89/100\n",
            "63/63 [==============================] - 16s 202ms/step - loss: 0.1447 - accuracy: 0.9345 - val_loss: 0.8685 - val_accuracy: 0.8860\n",
            "Epoch 90/100\n",
            "63/63 [==============================] - 16s 200ms/step - loss: 0.1537 - accuracy: 0.9425 - val_loss: 0.9510 - val_accuracy: 0.8900\n",
            "Epoch 91/100\n",
            "63/63 [==============================] - 16s 199ms/step - loss: 0.1164 - accuracy: 0.9520 - val_loss: 0.9109 - val_accuracy: 0.9030\n",
            "Epoch 92/100\n",
            "63/63 [==============================] - 16s 201ms/step - loss: 0.1482 - accuracy: 0.9430 - val_loss: 0.7903 - val_accuracy: 0.9150\n",
            "Epoch 93/100\n",
            "63/63 [==============================] - 16s 201ms/step - loss: 0.1489 - accuracy: 0.9420 - val_loss: 0.7924 - val_accuracy: 0.9070\n",
            "Epoch 94/100\n",
            "63/63 [==============================] - 16s 201ms/step - loss: 0.1598 - accuracy: 0.9475 - val_loss: 0.8308 - val_accuracy: 0.9140\n",
            "Epoch 95/100\n",
            "63/63 [==============================] - 16s 200ms/step - loss: 0.1518 - accuracy: 0.9400 - val_loss: 0.8111 - val_accuracy: 0.9190\n",
            "Epoch 96/100\n",
            "63/63 [==============================] - 16s 200ms/step - loss: 0.1527 - accuracy: 0.9440 - val_loss: 0.9589 - val_accuracy: 0.9070\n",
            "Epoch 97/100\n",
            "63/63 [==============================] - 16s 202ms/step - loss: 0.1505 - accuracy: 0.9415 - val_loss: 0.7454 - val_accuracy: 0.9100\n",
            "Epoch 98/100\n",
            "63/63 [==============================] - 16s 200ms/step - loss: 0.1347 - accuracy: 0.9460 - val_loss: 0.7831 - val_accuracy: 0.9170\n",
            "Epoch 99/100\n",
            "63/63 [==============================] - 16s 201ms/step - loss: 0.1613 - accuracy: 0.9425 - val_loss: 0.6848 - val_accuracy: 0.9090\n",
            "Epoch 100/100\n",
            "63/63 [==============================] - 16s 201ms/step - loss: 0.1400 - accuracy: 0.9440 - val_loss: 0.7649 - val_accuracy: 0.9060\n"
          ]
        }
      ]
    },
    {
      "cell_type": "code",
      "metadata": {
        "colab": {
          "base_uri": "https://localhost:8080/",
          "height": 545
        },
        "id": "Dd0JAfZ2ZRMz",
        "outputId": "ac528853-50de-46a4-8fd8-d35056dc9c52"
      },
      "source": [
        "acc = history.history['accuracy']\n",
        "val_acc = history.history['val_accuracy']\n",
        "loss = history.history['loss']\n",
        "val_loss = history.history['val_loss']\n",
        "\n",
        "epochs = range(len(acc))\n",
        "\n",
        "plt.plot(epochs, acc, 'bo', label='Training acc')\n",
        "plt.plot(epochs, val_acc, 'b', label='Validation acc')\n",
        "plt.title('Training and validation accuracy')\n",
        "plt.legend()\n",
        "\n",
        "plt.figure()\n",
        "\n",
        "plt.plot(epochs, loss, 'bo', label='Training loss')\n",
        "plt.plot(epochs, val_loss, 'b', label='Validation loss')\n",
        "plt.title('Training and validation loss')\n",
        "plt.legend()\n",
        "\n",
        "plt.show()"
      ],
      "execution_count": null,
      "outputs": [
        {
          "output_type": "display_data",
          "data": {
            "image/png": "[encoded data removed]",
            "text/plain": [
              "<Figure size 432x288 with 1 Axes>"
            ]
          },
          "metadata": {
            "needs_background": "light"
          }
        },
        {
          "output_type": "display_data",
          "data": {
            "image/png": "[encoded data removed]",
            "text/plain": [
              "<Figure size 432x288 with 1 Axes>"
            ]
          },
          "metadata": {
            "needs_background": "light"
          }
        }
      ]
    },
    {
      "cell_type": "code",
      "metadata": {
        "id": "1NWZ_jIWf4lw"
      },
      "source": [
        "model.save('cats_and_dogs_TFDATA.h5')"
      ],
      "execution_count": null,
      "outputs": []
    },
    {
      "cell_type": "code",
      "metadata": {
        "id": "1x-FbwnyoTC7"
      },
      "source": [
        "import pathlib\n",
        "dataset_url = \"https://storage.googleapis.com/download.tensorflow.org/example_images/flower_photos.tgz\"\n",
        "data_dir = tf.keras.utils.get_file('flower_photos', origin=dataset_url, untar=True)\n",
        "data_dir = pathlib.Path(data_dir)"
      ],
      "execution_count": null,
      "outputs": []
    },
    {
      "cell_type": "code",
      "metadata": {
        "colab": {
          "base_uri": "https://localhost:8080/"
        },
        "id": "C2RL3ohskBLm",
        "outputId": "67cc94f3-6cbb-4426-849f-a63047ec2eec"
      },
      "source": [
        "#class_names = train_ds.class_names\n",
        "img = keras.preprocessing.image.load_img(\n",
        "    '/content/CAT.jpg', target_size=(150, 150)\n",
        ")\n",
        "img_array = keras.preprocessing.image.img_to_array(img)\n",
        "img_array = tf.expand_dims(img_array, 0) # Create a batch\n",
        "\n",
        "predictions = model.predict(img_array)\n",
        "score = tf.nn.softmax(predictions[0])\n",
        "\n",
        "print(\n",
        "    \"This image most likely belongs to {} with a {:.2f} percent confidence.\"\n",
        "    .format(CLASS_NAMES[np.argmax(score)], 100 * np.max(score))\n",
        ")"
      ],
      "execution_count": null,
      "outputs": [
        {
          "output_type": "stream",
          "name": "stdout",
          "text": [
            "This image most likely belongs to cats with a 73.11 percent confidence.\n"
          ]
        }
      ]
    },
    {
      "cell_type": "code",
      "metadata": {
        "id": "f1bpAGUaoedM",
        "colab": {
          "base_uri": "https://localhost:8080/",
          "height": 737
        },
        "outputId": "4e93d4a9-dc8c-4424-d429-56aef69c3714"
      },
      "source": [
        "from IPython.display import Image\n",
        "Image('CAT.jpg')"
      ],
      "execution_count": null,
      "outputs": [
        {
          "output_type": "execute_result",
          "data": {
            "image/jpeg": "[encoded data removed]",
            "text/plain": [
              "<IPython.core.display.Image object>"
            ]
          },
          "metadata": {},
          "execution_count": 40
        }
      ]
    }
  ]
}